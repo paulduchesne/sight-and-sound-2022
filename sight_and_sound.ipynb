{
 "cells": [
  {
   "cell_type": "code",
   "execution_count": 2,
   "metadata": {},
   "outputs": [
    {
     "name": "stderr",
     "output_type": "stream",
     "text": [
      "100%|██████████| 2115/2115 [4:17:58<00:00,  7.32s/it]  \n"
     ]
    }
   ],
   "source": [
    "import json\n",
    "import pandas\n",
    "import pathlib\n",
    "import pydash\n",
    "import requests\n",
    "import time\n",
    "import tqdm\n",
    "import uuid\n",
    "\n",
    "data_path = pathlib.Path.cwd() / 'sight_and_sound.json'\n",
    "\n",
    "if not data_path.exists():\n",
    "\n",
    "    index = requests.get('https://www.bfi.org.uk/sight-and-sound/greatest-films-all-time/all-voters').text\n",
    "    index = index.split('<script type=\"text/javascript\">var initialPageState = ')[1].split('</script>')[0]\n",
    "    index = pydash.get(json.loads(index), 'componentState.allVoters')\n",
    "\n",
    "    data = list()\n",
    "\n",
    "    for x in tqdm.tqdm(index):\n",
    "\n",
    "        time.sleep(4)\n",
    "\n",
    "        voter = {k:v for k,v in x.items() if k in ['firstname', 'surname', 'type', 'country', 'url']}\n",
    "        voter['country'] = [{'country':x.strip()} for x in voter['country'].split('/')]\n",
    "\n",
    "        votes = pandas.read_html('https://www.bfi.org.uk'+voter['url'], encoding='utf8')[0].to_dict('records')\n",
    "        for y in votes:\n",
    "            y['Director'] = [{'director':x.strip()} for x in str(y['Director']).split(',')]\n",
    "\n",
    "        voter['votes'] = votes\n",
    "        data.append(voter)\n",
    "\n",
    "    with open(data_path, 'w') as write_data:\n",
    "        json.dump(data, write_data, ensure_ascii=False, indent=4)\n",
    "else:\n",
    "    pass "
   ]
  }
 ],
 "metadata": {
  "kernelspec": {
   "display_name": "Python 3",
   "language": "python",
   "name": "python3"
  },
  "language_info": {
   "codemirror_mode": {
    "name": "ipython",
    "version": 3
   },
   "file_extension": ".py",
   "mimetype": "text/x-python",
   "name": "python",
   "nbconvert_exporter": "python",
   "pygments_lexer": "ipython3",
   "version": "3.10.6"
  },
  "orig_nbformat": 4,
  "vscode": {
   "interpreter": {
    "hash": "916dbcbb3f70747c44a77c7bcd40155683ae19c65e1c03b4aa3499c5328201f1"
   }
  }
 },
 "nbformat": 4,
 "nbformat_minor": 2
}
